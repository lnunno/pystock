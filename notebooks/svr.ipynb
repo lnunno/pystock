{
 "metadata": {
  "name": ""
 },
 "nbformat": 3,
 "nbformat_minor": 0,
 "worksheets": [
  {
   "cells": [
    {
     "cell_type": "code",
     "collapsed": false,
     "input": [
      "###############################################################################\n",
      "# Generate sample data\n",
      "import numpy as np\n",
      "from sklearn.preprocessing import normalize\n",
      "\n",
      "# X = np.sort(5 * np.random.rand(40, 1), axis=0)\n",
      "X = np.arange(1,41).reshape(40,1)\n",
      "y = np.sin(X).ravel()"
     ],
     "language": "python",
     "metadata": {},
     "outputs": [],
     "prompt_number": 1
    },
    {
     "cell_type": "code",
     "collapsed": false,
     "input": [
      "y = y * np.random.rand(y.shape[0])"
     ],
     "language": "python",
     "metadata": {},
     "outputs": [],
     "prompt_number": 2
    },
    {
     "cell_type": "code",
     "collapsed": false,
     "input": [
      "y"
     ],
     "language": "python",
     "metadata": {},
     "outputs": [
      {
       "metadata": {},
       "output_type": "pyout",
       "prompt_number": 3,
       "text": [
        "array([ 0.11020764,  0.78347658,  0.11308265, -0.69945323, -0.37192104,\n",
        "       -0.05809136,  0.36346988,  0.06107188,  0.01788717, -0.48521819,\n",
        "       -0.9087864 , -0.49572746,  0.28357318,  0.05760894,  0.26681507,\n",
        "       -0.1904858 , -0.05795955, -0.15479634,  0.13597695,  0.04241823,\n",
        "        0.05362627, -0.00580542, -0.25493417, -0.86525801, -0.01173837,\n",
        "        0.32311397,  0.95021838,  0.01411748, -0.09945278, -0.71691762,\n",
        "       -0.10633334,  0.27267001,  0.20570729,  0.45298604, -0.1415669 ,\n",
        "       -0.24849716, -0.13317233,  0.17055601,  0.82936106,  0.70872216])"
       ]
      }
     ],
     "prompt_number": 3
    },
    {
     "cell_type": "code",
     "collapsed": false,
     "input": [
      "###############################################################################\n",
      "# Add noise to targets\n",
      "y[::5] += 3 * (0.5 - np.random.rand(8))"
     ],
     "language": "python",
     "metadata": {},
     "outputs": [],
     "prompt_number": "*"
    },
    {
     "cell_type": "code",
     "collapsed": false,
     "input": [
      "###############################################################################\n",
      "# Fit regression model\n",
      "from sklearn.svm import SVR\n",
      "\n",
      "svr_rbf = SVR(kernel='rbf', C=1e3, gamma=0.1)\n",
      "svr_lin = SVR(kernel='linear', C=1e3)\n",
      "svr_poly = SVR(kernel='poly', C=1e3, degree=2)\n",
      "y_rbf = svr_rbf.fit(X, y).predict(X)\n",
      "y_lin = svr_lin.fit(X, y).predict(X)\n",
      "y_poly = svr_poly.fit(X, y).predict(X)\n",
      "\n",
      "###############################################################################\n",
      "# look at the results\n",
      "import pylab as pl\n",
      "pl.scatter(X, y, c='k', label='data')\n",
      "pl.hold('on')\n",
      "pl.plot(X, y_rbf, c='g', label='RBF model')\n",
      "pl.plot(X, y_lin, c='r', label='Linear model')\n",
      "pl.plot(X, y_poly, c='b', label='Polynomial model')\n",
      "pl.xlabel('data')\n",
      "pl.ylabel('target')\n",
      "pl.title('Support Vector Regression')\n",
      "pl.legend()\n",
      "pl.show()"
     ],
     "language": "python",
     "metadata": {},
     "outputs": [],
     "prompt_number": "*"
    }
   ],
   "metadata": {}
  }
 ]
}