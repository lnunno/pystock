{
 "metadata": {
  "name": ""
 },
 "nbformat": 3,
 "nbformat_minor": 0,
 "worksheets": [
  {
   "cells": [
    {
     "cell_type": "code",
     "collapsed": false,
     "input": [
      "import numpy as np"
     ],
     "language": "python",
     "metadata": {},
     "outputs": [],
     "prompt_number": 1
    },
    {
     "cell_type": "code",
     "collapsed": false,
     "input": [
      "np.logspace?"
     ],
     "language": "python",
     "metadata": {},
     "outputs": [],
     "prompt_number": 2
    },
    {
     "cell_type": "code",
     "collapsed": false,
     "input": [
      "np.logspace(1,6).astype(int)"
     ],
     "language": "python",
     "metadata": {},
     "outputs": [
      {
       "metadata": {},
       "output_type": "pyout",
       "prompt_number": 17,
       "text": [
        "array([     10,      12,      15,      20,      25,      32,      40,\n",
        "            51,      65,      82,     104,     132,     167,     212,\n",
        "           268,     339,     429,     542,     686,     868,    1098,\n",
        "          1389,    1757,    2222,    2811,    3556,    4498,    5689,\n",
        "          7196,    9102,   11513,   14563,   18420,   23299,   29470,\n",
        "         37275,   47148,   59636,   75431,   95409,  120679,  152641,\n",
        "        193069,  244205,  308884,  390693,  494171,  625055,  790604,\n",
        "       1000000])"
       ]
      }
     ],
     "prompt_number": 17
    },
    {
     "cell_type": "code",
     "collapsed": false,
     "input": [
      "np.linspace(1,1000).astype(int)"
     ],
     "language": "python",
     "metadata": {},
     "outputs": [
      {
       "metadata": {},
       "output_type": "pyout",
       "prompt_number": 19,
       "text": [
        "array([   1,   21,   41,   62,   82,  102,  123,  143,  164,  184,  204,\n",
        "        225,  245,  266,  286,  306,  327,  347,  367,  388,  408,  429,\n",
        "        449,  469,  490,  510,  531,  551,  571,  592,  612,  633,  653,\n",
        "        673,  694,  714,  734,  755,  775,  796,  816,  836,  857,  877,\n",
        "        898,  918,  938,  959,  979, 1000])"
       ]
      }
     ],
     "prompt_number": 19
    },
    {
     "cell_type": "code",
     "collapsed": false,
     "input": [
      "'%05d' % (32)"
     ],
     "language": "python",
     "metadata": {},
     "outputs": [
      {
       "metadata": {},
       "output_type": "pyout",
       "prompt_number": 20,
       "text": [
        "'00032'"
       ]
      }
     ],
     "prompt_number": 20
    },
    {
     "cell_type": "code",
     "collapsed": false,
     "input": [],
     "language": "python",
     "metadata": {},
     "outputs": []
    }
   ],
   "metadata": {}
  }
 ]
}