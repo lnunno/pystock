{
 "metadata": {
  "name": ""
 },
 "nbformat": 3,
 "nbformat_minor": 0,
 "worksheets": [
  {
   "cells": [
    {
     "cell_type": "code",
     "collapsed": false,
     "input": [
      "import datetime\n",
      "import numpy as np\n",
      "import pylab as pl\n",
      "from matplotlib.finance import quotes_historical_yahoo\n",
      "from matplotlib.dates import YearLocator, MonthLocator, DateFormatter\n",
      "from sklearn.hmm import GaussianHMM"
     ],
     "language": "python",
     "metadata": {},
     "outputs": [],
     "prompt_number": 4
    },
    {
     "cell_type": "code",
     "collapsed": false,
     "input": [
      "###############################################################################\n",
      "# Downloading the data\n",
      "date1 = datetime.date(1995, 1, 1)  # start date\n",
      "date2 = datetime.date(2012, 1, 6)  # end date\n",
      "# get quotes from yahoo finance\n",
      "quotes = quotes_historical_yahoo(\"INTC\", date1, date2)\n",
      "if len(quotes) == 0:\n",
      "    raise SystemExit"
     ],
     "language": "python",
     "metadata": {},
     "outputs": [],
     "prompt_number": 5
    },
    {
     "cell_type": "code",
     "collapsed": false,
     "input": [
      "# unpack quotes\n",
      "dates = np.array([q[0] for q in quotes], dtype=int)\n",
      "close_v = np.array([q[2] for q in quotes])\n",
      "volume = np.array([q[2] for q in quotes])[1:]"
     ],
     "language": "python",
     "metadata": {},
     "outputs": [],
     "prompt_number": 6
    },
    {
     "cell_type": "code",
     "collapsed": false,
     "input": [
      "# take diff of close value\n",
      "# this makes len(diff) = len(close_t) - 1\n",
      "# therefore, others quantity also need to be shifted\n",
      "diff = close_v[1:] - close_v[:-1]\n",
      "dates = dates[1:]\n",
      "close_v = close_v[1:]\n",
      "\n",
      "# pack diff and volume for training\n",
      "X = np.column_stack([diff, volume])"
     ],
     "language": "python",
     "metadata": {},
     "outputs": [],
     "prompt_number": 7
    },
    {
     "cell_type": "code",
     "collapsed": false,
     "input": [
      "X"
     ],
     "language": "python",
     "metadata": {},
     "outputs": [
      {
       "metadata": {},
       "output_type": "pyout",
       "prompt_number": 8,
       "text": [
        "array([[ -1.00000000e-02,   2.98000000e+00],\n",
        "       [  2.00000000e-02,   3.00000000e+00],\n",
        "       [  4.00000000e-02,   3.04000000e+00],\n",
        "       ..., \n",
        "       [  5.30000000e-01,   2.31200000e+01],\n",
        "       [  2.60000000e-01,   2.33800000e+01],\n",
        "       [ -1.40000000e-01,   2.32400000e+01]])"
       ]
      }
     ],
     "prompt_number": 8
    },
    {
     "cell_type": "code",
     "collapsed": false,
     "input": [
      "###############################################################################\n",
      "# Run Gaussian HMM\n",
      "print \"fitting to HMM and decoding ...\",\n",
      "n_components = 5\n",
      "\n",
      "# make an HMM instance and execute fit\n",
      "model = GaussianHMM(n_components, \"diag\",n_iter=1000)\n",
      "model.fit([X])\n",
      "\n",
      "# predict the optimal sequence of internal hidden state\n",
      "hidden_states = model.predict(X)\n",
      "\n",
      "print \"done\\n\""
     ],
     "language": "python",
     "metadata": {},
     "outputs": [
      {
       "output_type": "stream",
       "stream": "stdout",
       "text": [
        "fitting to HMM and decoding ... "
       ]
      },
      {
       "output_type": "stream",
       "stream": "stdout",
       "text": [
        "done\n",
        "\n"
       ]
      }
     ],
     "prompt_number": 9
    },
    {
     "cell_type": "code",
     "collapsed": false,
     "input": [
      "###############################################################################\n",
      "# print trained parameters and plot\n",
      "print \"Transition matrix\"\n",
      "print model.transmat_\n",
      "print \"\"\n",
      "\n",
      "print \"means and vars of each hidden state\"\n",
      "for i in xrange(n_components):\n",
      "    print \"%dth hidden state\" % i\n",
      "    print \"mean = \", model.means_[i]\n",
      "    print \"var = \", np.diag(model.covars_[i])\n",
      "    print \"\"\n",
      "\n",
      "years = YearLocator()   # every year\n",
      "months = MonthLocator()  # every month\n",
      "yearsFmt = DateFormatter('%Y')\n",
      "fig = pl.figure()\n",
      "ax = fig.add_subplot(111)\n",
      "\n",
      "for i in xrange(n_components):\n",
      "    # use fancy indexing to plot data in each state\n",
      "    idx = (hidden_states == i)\n",
      "    ax.plot_date(dates[idx], close_v[idx], 'o', label=\"%dth hidden state\" % i)\n",
      "ax.legend()\n",
      "\n",
      "# format the ticks\n",
      "ax.xaxis.set_major_locator(years)\n",
      "ax.xaxis.set_major_formatter(yearsFmt)\n",
      "ax.xaxis.set_minor_locator(months)\n",
      "ax.autoscale_view()\n",
      "\n",
      "# format the coords message box\n",
      "ax.fmt_xdata = DateFormatter('%Y-%m-%d')\n",
      "ax.fmt_ydata = lambda x: '$%1.2f' % x\n",
      "ax.grid(True)\n",
      "\n",
      "fig.autofmt_xdate()\n",
      "pl.show()"
     ],
     "language": "python",
     "metadata": {},
     "outputs": [
      {
       "output_type": "stream",
       "stream": "stdout",
       "text": [
        "Transition matrix\n",
        "[[  9.97760508e-01   4.97289552e-19   4.97324121e-19   4.97289552e-19\n",
        "    2.23949218e-03]\n",
        " [  1.98949749e-19   9.86354808e-01   4.08207245e-03   9.56311978e-03\n",
        "    4.88184651e-12]\n",
        " [  5.85327883e-19   9.20741248e-03   9.87990506e-01   2.73129250e-11\n",
        "    2.80208144e-03]\n",
        " [  1.74196875e-19   9.99168666e-03   4.41647541e-09   9.82576918e-01\n",
        "    7.43139123e-03]\n",
        " [  2.08073106e-19   2.08227932e-19   2.13806058e-19   1.08093044e-02\n",
        "    9.89190696e-01]]\n",
        "\n",
        "means and vars of each hidden state\n",
        "0th hidden state\n",
        "mean =  [ 0.01446753  5.78436539]\n",
        "var =  [ 0.01802057  1.72921251]\n",
        "\n",
        "1th hidden state\n",
        "mean =  [ -1.06890055e-03   2.20457820e+01]\n",
        "var =  [ 0.32853796  3.33555885]\n",
        "\n",
        "2th hidden state\n",
        "mean =  [  3.15646381e-04   3.76697657e+01]\n",
        "var =  [  2.27695465  95.18482841]\n",
        "\n",
        "3th hidden state\n",
        "mean =  [  1.18327974e-02   1.77059219e+01]\n",
        "var =  [ 0.09050948  1.11539313]\n",
        "\n",
        "4th hidden state\n",
        "mean =  [ -2.05659831e-04   1.37567206e+01]\n",
        "var =  [ 0.17560365  2.22799344]\n",
        "\n"
       ]
      }
     ],
     "prompt_number": 10
    },
    {
     "cell_type": "code",
     "collapsed": false,
     "input": [],
     "language": "python",
     "metadata": {},
     "outputs": [],
     "prompt_number": 10
    }
   ],
   "metadata": {}
  }
 ]
}