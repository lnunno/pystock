{
 "metadata": {
  "name": ""
 },
 "nbformat": 3,
 "nbformat_minor": 0,
 "worksheets": [
  {
   "cells": [
    {
     "cell_type": "code",
     "collapsed": false,
     "input": [
      "import numpy as np"
     ],
     "language": "python",
     "metadata": {},
     "outputs": [],
     "prompt_number": 129
    },
    {
     "cell_type": "code",
     "collapsed": false,
     "input": [
      "def next_business_day(day):\n",
      "        '''\n",
      "        Roll the clock forward one business day.\n",
      "        \n",
      "        See the numpy example:\n",
      "        >>> # First business day after a date\n",
      "        ... np.busday_offset('2011-03-20', 1, roll='backward')\n",
      "        numpy.datetime64('2011-03-21','D')\n",
      "        '''\n",
      "        d = np.busday_offset(day, 1, roll='backward')\n",
      "        return d"
     ],
     "language": "python",
     "metadata": {},
     "outputs": [],
     "prompt_number": 130
    },
    {
     "cell_type": "code",
     "collapsed": false,
     "input": [
      "d = '2011-01-14'"
     ],
     "language": "python",
     "metadata": {},
     "outputs": [],
     "prompt_number": 131
    },
    {
     "cell_type": "code",
     "collapsed": false,
     "input": [
      "next_business_day(d)"
     ],
     "language": "python",
     "metadata": {},
     "outputs": [
      {
       "metadata": {},
       "output_type": "pyout",
       "prompt_number": 132,
       "text": [
        "numpy.datetime64('2011-01-17')"
       ]
      }
     ],
     "prompt_number": 132
    },
    {
     "cell_type": "code",
     "collapsed": false,
     "input": [
      "def next_n_business_days(start_date, n, include_start=False):\n",
      "    '''\n",
      "    @return: A list of the next n valid business days.\n",
      "    '''\n",
      "    dates = []\n",
      "    if include_start and np.is_busday(start_date):\n",
      "        dates.append(np.datetime64(start_date))\n",
      "    curr_date = start_date\n",
      "    for _ in range(n):\n",
      "        curr_date = next_business_day(curr_date)\n",
      "        dates.append(curr_date)\n",
      "    return dates"
     ],
     "language": "python",
     "metadata": {},
     "outputs": [],
     "prompt_number": 133
    },
    {
     "cell_type": "code",
     "collapsed": false,
     "input": [
      "next_n_business_days(d,20)"
     ],
     "language": "python",
     "metadata": {},
     "outputs": [
      {
       "metadata": {},
       "output_type": "pyout",
       "prompt_number": 134,
       "text": [
        "[numpy.datetime64('2011-01-17'),\n",
        " numpy.datetime64('2011-01-18'),\n",
        " numpy.datetime64('2011-01-19'),\n",
        " numpy.datetime64('2011-01-20'),\n",
        " numpy.datetime64('2011-01-21'),\n",
        " numpy.datetime64('2011-01-24'),\n",
        " numpy.datetime64('2011-01-25'),\n",
        " numpy.datetime64('2011-01-26'),\n",
        " numpy.datetime64('2011-01-27'),\n",
        " numpy.datetime64('2011-01-28'),\n",
        " numpy.datetime64('2011-01-31'),\n",
        " numpy.datetime64('2011-02-01'),\n",
        " numpy.datetime64('2011-02-02'),\n",
        " numpy.datetime64('2011-02-03'),\n",
        " numpy.datetime64('2011-02-04'),\n",
        " numpy.datetime64('2011-02-07'),\n",
        " numpy.datetime64('2011-02-08'),\n",
        " numpy.datetime64('2011-02-09'),\n",
        " numpy.datetime64('2011-02-10'),\n",
        " numpy.datetime64('2011-02-11')]"
       ]
      }
     ],
     "prompt_number": 134
    },
    {
     "cell_type": "code",
     "collapsed": false,
     "input": [
      "np.busday_offset('2011-01-09', -1,roll='backward')"
     ],
     "language": "python",
     "metadata": {},
     "outputs": [
      {
       "metadata": {},
       "output_type": "pyout",
       "prompt_number": 135,
       "text": [
        "numpy.datetime64('2011-01-06')"
       ]
      }
     ],
     "prompt_number": 135
    },
    {
     "cell_type": "code",
     "collapsed": false,
     "input": [
      "def prev_business_day(day):\n",
      "    return np.busday_offset(day,-1,roll='backward')"
     ],
     "language": "python",
     "metadata": {},
     "outputs": [],
     "prompt_number": 136
    },
    {
     "cell_type": "code",
     "collapsed": false,
     "input": [
      "def prev_n_business_days(start_date, n, include_start=False):\n",
      "    '''\n",
      "    @return: A list of the previous n valid business days.\n",
      "    '''\n",
      "    dates = []\n",
      "    if include_start and np.is_busday(start_date):\n",
      "        dates.append(np.datetime64(start_date))\n",
      "    curr_date = start_date\n",
      "    for _ in range(n):\n",
      "        curr_date = prev_business_day(curr_date)\n",
      "        dates.append(curr_date)\n",
      "    return dates"
     ],
     "language": "python",
     "metadata": {},
     "outputs": [],
     "prompt_number": 137
    },
    {
     "cell_type": "code",
     "collapsed": false,
     "input": [
      "prev_n_business_days(d,20)"
     ],
     "language": "python",
     "metadata": {},
     "outputs": [
      {
       "metadata": {},
       "output_type": "pyout",
       "prompt_number": 138,
       "text": [
        "[numpy.datetime64('2011-01-13'),\n",
        " numpy.datetime64('2011-01-12'),\n",
        " numpy.datetime64('2011-01-11'),\n",
        " numpy.datetime64('2011-01-10'),\n",
        " numpy.datetime64('2011-01-07'),\n",
        " numpy.datetime64('2011-01-06'),\n",
        " numpy.datetime64('2011-01-05'),\n",
        " numpy.datetime64('2011-01-04'),\n",
        " numpy.datetime64('2011-01-03'),\n",
        " numpy.datetime64('2010-12-31'),\n",
        " numpy.datetime64('2010-12-30'),\n",
        " numpy.datetime64('2010-12-29'),\n",
        " numpy.datetime64('2010-12-28'),\n",
        " numpy.datetime64('2010-12-27'),\n",
        " numpy.datetime64('2010-12-24'),\n",
        " numpy.datetime64('2010-12-23'),\n",
        " numpy.datetime64('2010-12-22'),\n",
        " numpy.datetime64('2010-12-21'),\n",
        " numpy.datetime64('2010-12-20'),\n",
        " numpy.datetime64('2010-12-17')]"
       ]
      }
     ],
     "prompt_number": 138
    },
    {
     "cell_type": "code",
     "collapsed": false,
     "input": [
      "prev_business_day('2011-01-13')"
     ],
     "language": "python",
     "metadata": {},
     "outputs": [
      {
       "metadata": {},
       "output_type": "pyout",
       "prompt_number": 139,
       "text": [
        "numpy.datetime64('2011-01-12')"
       ]
      }
     ],
     "prompt_number": 139
    },
    {
     "cell_type": "code",
     "collapsed": false,
     "input": [
      "prev_n_business_days(d,20)[0]"
     ],
     "language": "python",
     "metadata": {},
     "outputs": [
      {
       "metadata": {},
       "output_type": "pyout",
       "prompt_number": 140,
       "text": [
        "numpy.datetime64('2011-01-13')"
       ]
      }
     ],
     "prompt_number": 140
    },
    {
     "cell_type": "code",
     "collapsed": false,
     "input": [
      "prev_n_business_days(d,20)[-1]"
     ],
     "language": "python",
     "metadata": {},
     "outputs": [
      {
       "metadata": {},
       "output_type": "pyout",
       "prompt_number": 141,
       "text": [
        "numpy.datetime64('2010-12-17')"
       ]
      }
     ],
     "prompt_number": 141
    },
    {
     "cell_type": "code",
     "collapsed": false,
     "input": [
      "def timeframe(start_date,num_previous_days,num_succ_days):\n",
      "    pds = prev_n_business_days(start_date, num_previous_days,include_start=False)\n",
      "    pds.reverse()\n",
      "    nds = next_n_business_days(start_date, num_succ_days, include_start=True)\n",
      "    return pds + nds"
     ],
     "language": "python",
     "metadata": {},
     "outputs": [],
     "prompt_number": 142
    },
    {
     "cell_type": "code",
     "collapsed": false,
     "input": [
      "timeframe('2011-01-04',10,5)"
     ],
     "language": "python",
     "metadata": {},
     "outputs": [
      {
       "metadata": {},
       "output_type": "pyout",
       "prompt_number": 143,
       "text": [
        "[numpy.datetime64('2010-12-21'),\n",
        " numpy.datetime64('2010-12-22'),\n",
        " numpy.datetime64('2010-12-23'),\n",
        " numpy.datetime64('2010-12-24'),\n",
        " numpy.datetime64('2010-12-27'),\n",
        " numpy.datetime64('2010-12-28'),\n",
        " numpy.datetime64('2010-12-29'),\n",
        " numpy.datetime64('2010-12-30'),\n",
        " numpy.datetime64('2010-12-31'),\n",
        " numpy.datetime64('2011-01-03'),\n",
        " numpy.datetime64('2011-01-04'),\n",
        " numpy.datetime64('2011-01-05'),\n",
        " numpy.datetime64('2011-01-06'),\n",
        " numpy.datetime64('2011-01-07'),\n",
        " numpy.datetime64('2011-01-10'),\n",
        " numpy.datetime64('2011-01-11')]"
       ]
      }
     ],
     "prompt_number": 143
    },
    {
     "cell_type": "code",
     "collapsed": false,
     "input": [],
     "language": "python",
     "metadata": {},
     "outputs": [],
     "prompt_number": 143
    }
   ],
   "metadata": {}
  }
 ]
}