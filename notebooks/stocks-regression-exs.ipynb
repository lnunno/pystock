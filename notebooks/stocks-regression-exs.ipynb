{
 "metadata": {
  "name": ""
 },
 "nbformat": 3,
 "nbformat_minor": 0,
 "worksheets": [
  {
   "cells": [
    {
     "cell_type": "heading",
     "level": 1,
     "metadata": {},
     "source": [
      "Examples using the sklearn library"
     ]
    },
    {
     "cell_type": "raw",
     "metadata": {},
     "source": [
      "Imports"
     ]
    },
    {
     "cell_type": "code",
     "collapsed": false,
     "input": [
      "import numpy as np\n",
      "import matplotlib.pyplot as plt\n",
      "from sklearn.linear_model import SGDRegressor\n",
      "from sklearn.svm import SVR\n",
      "from sklearn.preprocessing import normalize,scale\n",
      "from sklearn.linear_model import LinearRegression, Ridge, BayesianRidge\n",
      "from sklearn import datasets\n",
      "from sklearn.gaussian_process import GaussianProcess\n",
      "import pylab as pl"
     ],
     "language": "python",
     "metadata": {},
     "outputs": [],
     "prompt_number": 337
    },
    {
     "cell_type": "raw",
     "metadata": {},
     "source": [
      "Fake some data that we could possibly have.\n",
      "\n",
      "The training data are dates as ordinals and the prices associated."
     ]
    },
    {
     "cell_type": "code",
     "collapsed": false,
     "input": [
      "X = np.array([734870,\n",
      "  734871,\n",
      "  734872,\n",
      "  734875,\n",
      "  734876,\n",
      "  734877,\n",
      "  734878,\n",
      "  734879,\n",
      "  734882,\n",
      "  734883,\n",
      "  734884,\n",
      "  734885,\n",
      "  734886,\n",
      "  734890,\n",
      "  734891],dtype=float)"
     ],
     "language": "python",
     "metadata": {},
     "outputs": [],
     "prompt_number": 338
    },
    {
     "cell_type": "code",
     "collapsed": false,
     "input": [
      "n = 5"
     ],
     "language": "python",
     "metadata": {},
     "outputs": [],
     "prompt_number": 339
    },
    {
     "cell_type": "code",
     "collapsed": false,
     "input": [
      "X = X.reshape(X.shape[0],1)"
     ],
     "language": "python",
     "metadata": {},
     "outputs": [],
     "prompt_number": 340
    },
    {
     "cell_type": "code",
     "collapsed": false,
     "input": [
      "X"
     ],
     "language": "python",
     "metadata": {},
     "outputs": [
      {
       "metadata": {},
       "output_type": "pyout",
       "prompt_number": 341,
       "text": [
        "array([[ 734870.],\n",
        "       [ 734871.],\n",
        "       [ 734872.],\n",
        "       [ 734875.],\n",
        "       [ 734876.],\n",
        "       [ 734877.],\n",
        "       [ 734878.],\n",
        "       [ 734879.],\n",
        "       [ 734882.],\n",
        "       [ 734883.],\n",
        "       [ 734884.],\n",
        "       [ 734885.],\n",
        "       [ 734886.],\n",
        "       [ 734890.],\n",
        "       [ 734891.]])"
       ]
      }
     ],
     "prompt_number": 341
    },
    {
     "cell_type": "code",
     "collapsed": false,
     "input": [
      "X = scale(X)"
     ],
     "language": "python",
     "metadata": {},
     "outputs": [],
     "prompt_number": 342
    },
    {
     "cell_type": "code",
     "collapsed": false,
     "input": [
      "X"
     ],
     "language": "python",
     "metadata": {},
     "outputs": [
      {
       "metadata": {},
       "output_type": "pyout",
       "prompt_number": 343,
       "text": [
        "array([[-1.55648066],\n",
        "       [-1.39978797],\n",
        "       [-1.24309529],\n",
        "       [-0.77301724],\n",
        "       [-0.61632456],\n",
        "       [-0.45963187],\n",
        "       [-0.30293919],\n",
        "       [-0.1462465 ],\n",
        "       [ 0.32383155],\n",
        "       [ 0.48052423],\n",
        "       [ 0.63721691],\n",
        "       [ 0.7939096 ],\n",
        "       [ 0.95060228],\n",
        "       [ 1.57737302],\n",
        "       [ 1.7340657 ]])"
       ]
      }
     ],
     "prompt_number": 343
    },
    {
     "cell_type": "code",
     "collapsed": false,
     "input": [
      "X_train = X[:-n]"
     ],
     "language": "python",
     "metadata": {},
     "outputs": [],
     "prompt_number": 344
    },
    {
     "cell_type": "code",
     "collapsed": false,
     "input": [
      "X_train"
     ],
     "language": "python",
     "metadata": {},
     "outputs": [
      {
       "metadata": {},
       "output_type": "pyout",
       "prompt_number": 345,
       "text": [
        "array([[-1.55648066],\n",
        "       [-1.39978797],\n",
        "       [-1.24309529],\n",
        "       [-0.77301724],\n",
        "       [-0.61632456],\n",
        "       [-0.45963187],\n",
        "       [-0.30293919],\n",
        "       [-0.1462465 ],\n",
        "       [ 0.32383155],\n",
        "       [ 0.48052423]])"
       ]
      }
     ],
     "prompt_number": 345
    },
    {
     "cell_type": "code",
     "collapsed": false,
     "input": [
      "X_test = X[-n:]"
     ],
     "language": "python",
     "metadata": {},
     "outputs": [],
     "prompt_number": 346
    },
    {
     "cell_type": "code",
     "collapsed": false,
     "input": [
      "X_test"
     ],
     "language": "python",
     "metadata": {},
     "outputs": [
      {
       "metadata": {},
       "output_type": "pyout",
       "prompt_number": 347,
       "text": [
        "array([[ 0.63721691],\n",
        "       [ 0.7939096 ],\n",
        "       [ 0.95060228],\n",
        "       [ 1.57737302],\n",
        "       [ 1.7340657 ]])"
       ]
      }
     ],
     "prompt_number": 347
    },
    {
     "cell_type": "code",
     "collapsed": false,
     "input": [
      "y = np.array([549.03003,\n",
      " 542.09589,\n",
      " 527.00000,\n",
      " 523.90002,\n",
      " 525.31000,\n",
      " 517.09998,\n",
      " 523.51001,\n",
      " 520.29999,\n",
      " 501.75000,\n",
      " 485.92001,\n",
      " 506.09000,\n",
      " 502.67999,\n",
      " 500.00000,\n",
      " 504.76999,\n",
      " 514.00500]) # Stock prices"
     ],
     "language": "python",
     "metadata": {},
     "outputs": [],
     "prompt_number": 348
    },
    {
     "cell_type": "code",
     "collapsed": false,
     "input": [
      "y_train = y[:-n]"
     ],
     "language": "python",
     "metadata": {},
     "outputs": [],
     "prompt_number": 349
    },
    {
     "cell_type": "code",
     "collapsed": false,
     "input": [
      "y_test = y[-n:]"
     ],
     "language": "python",
     "metadata": {},
     "outputs": [],
     "prompt_number": 350
    },
    {
     "cell_type": "raw",
     "metadata": {},
     "source": [
      "Normalize everything"
     ]
    },
    {
     "cell_type": "code",
     "collapsed": false,
     "input": [
      "regressor = SVR(kernel='poly', C=1e3, gamma=0.1)"
     ],
     "language": "python",
     "metadata": {},
     "outputs": [],
     "prompt_number": 351
    },
    {
     "cell_type": "code",
     "collapsed": false,
     "input": [
      "regressor.fit(X_train,y_train)"
     ],
     "language": "python",
     "metadata": {},
     "outputs": [
      {
       "metadata": {},
       "output_type": "pyout",
       "prompt_number": 352,
       "text": [
        "SVR(C=1000.0, cache_size=200, coef0=0.0, degree=3, epsilon=0.1, gamma=0.1,\n",
        "  kernel='poly', max_iter=-1, probability=False, random_state=None,\n",
        "  shrinking=True, tol=0.001, verbose=False)"
       ]
      }
     ],
     "prompt_number": 352
    },
    {
     "cell_type": "code",
     "collapsed": false,
     "input": [
      "regressor.predict(X_test)"
     ],
     "language": "python",
     "metadata": {},
     "outputs": [
      {
       "metadata": {},
       "output_type": "pyout",
       "prompt_number": 353,
       "text": [
        "array([ 519.4662851 ,  518.170738  ,  516.24818022,  499.81279994,\n",
        "        492.89890703])"
       ]
      }
     ],
     "prompt_number": 353
    },
    {
     "cell_type": "code",
     "collapsed": false,
     "input": [
      "# Plot outputs\n",
      "pl.scatter(X, y,  color='black')\n",
      "pl.plot(X, regressor.predict(X), color='blue',\n",
      "        linewidth=3)\n",
      "\n",
      "pl.xticks(())\n",
      "pl.yticks(())\n",
      "\n",
      "pl.show()"
     ],
     "language": "python",
     "metadata": {},
     "outputs": [],
     "prompt_number": 354
    },
    {
     "cell_type": "code",
     "collapsed": false,
     "input": [],
     "language": "python",
     "metadata": {},
     "outputs": [],
     "prompt_number": 354
    }
   ],
   "metadata": {}
  }
 ]
}